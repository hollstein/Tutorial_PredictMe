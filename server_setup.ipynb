{
 "cells": [
  {
   "cell_type": "markdown",
   "metadata": {},
   "source": [
    "File `fn` should be list of usernames separated by newlines. Will be converted to lowercase."
   ]
  },
  {
   "cell_type": "code",
   "execution_count": 1,
   "metadata": {},
   "outputs": [],
   "source": [
    "fn = \"./users.txt\"\n",
    "with open(fn,\"r\") as fl:\n",
    "    users = fl.read().splitlines()\n",
    "users = [u.lower() for u in users if u != \"\"]    "
   ]
  },
  {
   "cell_type": "code",
   "execution_count": 10,
   "metadata": {},
   "outputs": [
    {
     "data": {
      "text/plain": [
       "'**abby_ah**, **alon_cir**, **andre_mapv**, **andreas_ct**, **astrid_ct**, **boris_cs**, **boukje_ah**, **carl_cir**, **christina_ah**, **daniel_ah**, **daniel_m_ch**, **daniel_mapv**, **daniel_w_ch**, **fabian_cs**, **florian_et**, **gitta_cs**, **hendrik_ah**, **jacob_ch**, **karsten_et**, **marjorie_et**, **markus_et**, **monica_cir**, **nergis_mapv**, **nicole_mapv**, **raphael_cs**, **ruediger_cs**, **sebastian_et**, **selina_cir**, **seth_ch**, **shivani_mapv**, **srikanth_ct**, **steve_ch**, **subrata_ct**, **swantje_cs**, **thibaut_mapv**, **tobias_cir**, **upinder_ct**'"
      ]
     },
     "execution_count": 10,
     "metadata": {},
     "output_type": "execute_result"
    }
   ],
   "source": [
    "\"**\" + (\"**, **\".join(sorted(users))) + \"**\""
   ]
  },
  {
   "cell_type": "code",
   "execution_count": 16,
   "metadata": {},
   "outputs": [],
   "source": [
    "with open(\"./make_users.txt\",\"w\") as fl:\n",
    "    for user in users:\n",
    "        fl.write(\"{username}:{pw}:2000:13355:Tutorial:/home/{username}:/bin/bash\\n\".format(\n",
    "            username=user.lower(),pw=\"Tech2018\"))\n",
    "# run afterwards: `sudo newusers make_users.txt`"
   ]
  },
  {
   "cell_type": "code",
   "execution_count": 8,
   "metadata": {},
   "outputs": [],
   "source": [
    "import shutil\n",
    "fn_nb = \"HandsOn_PredictMe.ipynb\"\n",
    "with open(\"./update_notebook.sh\",\"w\") as fl:\n",
    "    for user in users:\n",
    "        fl.write(\"cp {fn} /home/{user}/{fn}; chown -c {user} /home/{user}/{fn}\\n\".format(\n",
    "            user=user, fn=fn_nb))\n",
    "#run afterwards: `sudo bash update_notebook.sh`"
   ]
  }
 ],
 "metadata": {
  "kernelspec": {
   "display_name": "Python 3",
   "language": "python",
   "name": "python3"
  },
  "language_info": {
   "codemirror_mode": {
    "name": "ipython",
    "version": 3
   },
   "file_extension": ".py",
   "mimetype": "text/x-python",
   "name": "python",
   "nbconvert_exporter": "python",
   "pygments_lexer": "ipython3",
   "version": "3.6.6"
  }
 },
 "nbformat": 4,
 "nbformat_minor": 2
}
